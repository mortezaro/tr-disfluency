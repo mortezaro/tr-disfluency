{
 "cells": [
  {
   "cell_type": "code",
   "execution_count": 1,
   "id": "e4020c8b-ebb4-4648-8264-7c49282a02c7",
   "metadata": {},
   "outputs": [],
   "source": [
    "#!pip install -r requirements.txt\n",
    "#!pip install pytorch-crf==0.4.0\n",
    "#!python -m spacy download en_core_web_sm"
   ]
  },
  {
   "cell_type": "code",
   "execution_count": 1,
   "id": "55138e82-d77a-4a71-90a9-0e553ec22d9f",
   "metadata": {},
   "outputs": [
    {
     "name": "stdout",
     "output_type": "stream",
     "text": [
      "/Users/mortro/Downloads/bert_crf-master 2/bert-crfdisf\n"
     ]
    }
   ],
   "source": [
    "%cd bert-crfdisf"
   ]
  },
  {
   "cell_type": "code",
   "execution_count": 2,
   "id": "bb43c467-9054-40fc-b655-b46be99fca83",
   "metadata": {},
   "outputs": [
    {
     "name": "stdout",
     "output_type": "stream",
     "text": [
      "test len:  366\n",
      "[W ParallelNative.cpp:212] Warning: Cannot set number of intraop threads after parallel work has started or after set_num_threads call when using native parallel backend (function set_num_threads)\n",
      "processed 52443 tokens with 52443 phrases; found: 52443 phrases; correct: 50745.\n",
      "accuracy:  96.36%; (non-O)\n",
      "accuracy:  96.76%; precision:  96.76%; recall:  96.76%; FB1:  96.76%\n",
      "             <e/>: precision:  96.07%; recall:  94.99%; FB1:  95.52%  3254\n",
      "             <f/>: precision:  97.58%; recall:  98.95%; FB1:  98.26%  38476\n",
      "             <i/>: precision:  88.86%; recall:  85.15%; FB1:  86.97%  413\n",
      "            <rm/>: precision:  86.13%; recall:  76.08%; FB1:  80.79%  591\n",
      "           <rms/>: precision:  91.60%; recall:  90.18%; FB1:  90.88%  1453\n",
      "            <rp/>: precision:  79.08%; recall:  46.06%; FB1:  58.21%  325\n",
      "           <rpn/>: precision:  86.56%; recall:  82.66%; FB1:  84.56%  1481\n",
      "        <rpnDel/>: precision:  58.33%; recall:  58.33%; FB1:  58.33%  84\n",
      "           <rps/>: precision:  83.01%; recall:  72.65%; FB1:  77.48%  512\n",
      "                O: precision: 100.00%; recall: 100.00%; FB1: 100.00%  5854\n",
      "\n"
     ]
    }
   ],
   "source": [
    "!python bert_disf.py --mode test\n"
   ]
  },
  {
   "cell_type": "code",
   "execution_count": null,
   "id": "6e9fdbdf-cde3-4205-8712-142f198e4b4d",
   "metadata": {},
   "outputs": [],
   "source": []
  }
 ],
 "metadata": {
  "kernelspec": {
   "display_name": "Python 3",
   "language": "python",
   "name": "python3"
  },
  "language_info": {
   "codemirror_mode": {
    "name": "ipython",
    "version": 3
   },
   "file_extension": ".py",
   "mimetype": "text/x-python",
   "name": "python",
   "nbconvert_exporter": "python",
   "pygments_lexer": "ipython3",
   "version": "3.7.10"
  }
 },
 "nbformat": 4,
 "nbformat_minor": 5
}
